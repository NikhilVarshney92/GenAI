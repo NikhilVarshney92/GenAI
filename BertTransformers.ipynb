{
  "nbformat": 4,
  "nbformat_minor": 0,
  "metadata": {
    "colab": {
      "provenance": [],
      "toc_visible": true,
      "authorship_tag": "ABX9TyPjnxCbraGIw2gv7iYCWf+g",
      "include_colab_link": true
    },
    "kernelspec": {
      "name": "python3",
      "display_name": "Python 3"
    },
    "language_info": {
      "name": "python"
    }
  },
  "cells": [
    {
      "cell_type": "markdown",
      "metadata": {
        "id": "view-in-github",
        "colab_type": "text"
      },
      "source": [
        "<a href=\"https://colab.research.google.com/github/NikhilVarshney92/GenAI/blob/main/BertTransformers.ipynb\" target=\"_parent\"><img src=\"https://colab.research.google.com/assets/colab-badge.svg\" alt=\"Open In Colab\"/></a>"
      ]
    },
    {
      "cell_type": "code",
      "source": [
        "# prompt: Using Huggingface finBert model create a model where we give input and model predict sentiments\n",
        "\n",
        "from transformers import AutoTokenizer, TFAutoModelForSequenceClassification\n",
        "from tqdm import tqdm\n",
        "import tensorflow as tf\n",
        "\n",
        "# Load pre-trained model and tokenizer\n",
        "model_name = 'ProsusAI/finbert'\n",
        "tokenizer = AutoTokenizer.from_pretrained(model_name)\n",
        "model = TFAutoModelForSequenceClassification.from_pretrained(model_name)\n",
        "\n",
        "# Prepare input text\n",
        "input_text = [\"This is a great investment opportunity.\", \"The stock market is crashing.\"]\n",
        "\n",
        "# Tokenize input text\n",
        "encoded_input = tokenizer(input_text, padding=True, truncation=True, return_tensors='tf')\n",
        "\n",
        "# Get model prediction\n",
        "output = model(**encoded_input)\n",
        "logits = output.logits\n",
        "\n",
        "# Convert logits to predicted labels\n",
        "predicted_labels = tf.argmax(logits, axis=-1)\n",
        "\n",
        "# Print predicted labels\n",
        "for i, label in enumerate(predicted_labels):\n",
        "  print(f\"Sentence {i+1}: {input_text[i]} -> Predicted label: {label}\")\n",
        "\n"
      ],
      "metadata": {
        "colab": {
          "base_uri": "https://localhost:8080/"
        },
        "id": "UgwSZlzO8C5W",
        "outputId": "e905b928-1735-4f4e-a4d0-fb7a0049d0e6"
      },
      "execution_count": 4,
      "outputs": [
        {
          "output_type": "stream",
          "name": "stderr",
          "text": [
            "All model checkpoint layers were used when initializing TFBertForSequenceClassification.\n",
            "\n",
            "Some layers of TFBertForSequenceClassification were not initialized from the model checkpoint at ProsusAI/finbert and are newly initialized: ['classifier']\n",
            "You should probably TRAIN this model on a down-stream task to be able to use it for predictions and inference.\n"
          ]
        },
        {
          "output_type": "stream",
          "name": "stdout",
          "text": [
            "Sentence 1: This is a great investment opportunity. -> Predicted label: 0\n",
            "Sentence 2: The stock market is crashing. -> Predicted label: 2\n"
          ]
        }
      ]
    },
    {
      "cell_type": "code",
      "source": [],
      "metadata": {
        "id": "eqcpva-N8fob"
      },
      "execution_count": null,
      "outputs": []
    }
  ]
}